{
 "cells": [
  {
   "cell_type": "code",
   "execution_count": 1,
   "metadata": {},
   "outputs": [
    {
     "name": "stdout",
     "output_type": "stream",
     "text": [
      "The Zen of Python, by Tim Peters\n",
      "\n",
      "Beautiful is better than ugly.\n",
      "Explicit is better than implicit.\n",
      "Simple is better than complex.\n",
      "Complex is better than complicated.\n",
      "Flat is better than nested.\n",
      "Sparse is better than dense.\n",
      "Readability counts.\n",
      "Special cases aren't special enough to break the rules.\n",
      "Although practicality beats purity.\n",
      "Errors should never pass silently.\n",
      "Unless explicitly silenced.\n",
      "In the face of ambiguity, refuse the temptation to guess.\n",
      "There should be one-- and preferably only one --obvious way to do it.\n",
      "Although that way may not be obvious at first unless you're Dutch.\n",
      "Now is better than never.\n",
      "Although never is often better than *right* now.\n",
      "If the implementation is hard to explain, it's a bad idea.\n",
      "If the implementation is easy to explain, it may be a good idea.\n",
      "Namespaces are one honking great idea -- let's do more of those!\n"
     ]
    }
   ],
   "source": [
    "import this"
   ]
  },
  {
   "cell_type": "code",
   "execution_count": 16,
   "metadata": {
    "collapsed": true
   },
   "outputs": [],
   "source": [
    "resume='''\n",
    "Maxine Kent\n",
    "(555) 555-5555\n",
    "maxine@hmail.com\n",
    "\n",
    "*** Professional Profile\n",
    "\n",
    "Human resources manager with solid skills in HR administration, policy and procedure development, traditional and electronic recruiting, hiring, training, employee relations, corporate communications, contract management, and affirmative action.\n",
    "\n",
    "* Effective change manager with record of success managing people and projects in fast-paced, high pressure environments.\n",
    "\n",
    "* Solid knowledge of state and federal employment / unemployment laws, EEOC, ADA, and OSHA regulations.\n",
    "\n",
    "* Well-developed interpersonal and communication skills.\n",
    "\n",
    "* Proficient with Windows, Microsoft Word, Microsoft Excel, and HRIS systems.\n",
    "\n",
    "*** Experience\n",
    "\n",
    "WEST REHAB - West Creek, Mississippi\n",
    "Human Resources Manager\n",
    "Directed and managed staffing for 22 facilities. Recruited, hired, and trained staff. Supervised five staffing coordinators and handled all HR management functions.\n",
    "* Successfully improved company profits through effective management of human resources.\n",
    "* Conducted interviews, screened applicants, and provided new hire orientations.\n",
    "* Authored employee handbooks for three companies.\n",
    "* Implemented custom HRIS system to coordinate resource allocation and staff scheduling.\n",
    "* Developed and implemented policies, procedures, and initiatives that improved customer relations and dramatically reduced staff turnover.\n",
    "\n",
    "ADVO STAFFING - West Hanson, Mississippi\n",
    "Onsite Coordinator / Partnership Manager\n",
    "Managed operations and supervised staff at three locations. Hired, trained, supervised, and evaluated 24 on-site coordinators. Functioned as primary liaison between client companies and upper management. Assisted with contract negotiation and recruiting.\n",
    "* Managed contract staff programs at individual client sites.\n",
    "* Sourced and placed personnel through in-house recruiters, advertisements, traditional / Internet recruiting, and job fairs.\n",
    "* Oversaw benefits enrollment, payroll, performance appraisals, employee relations, contractor terminations, exit interviewing, recognition programs, co-employment issues, and safety audits.\n",
    "* Managed personnel records (225+ employees).\n",
    "\n",
    "RTF SECURITY SERVICES - Seattle, Washington\n",
    "Site Supervisor:sekhar549@gmail.com\n",
    "Coordinated onsite personnel functions. Screened applicants, conducted initial interviews, and made hiring recommendations.\n",
    "* Prepared performance appraisals and maintained employee records.\n",
    "* Led on-the-job training sessions, utilizing state-of-the-art testing methods.\n",
    "\n",
    "Human Resource Generalist / Intern\n",
    "Organized personnel records for Affirmative Action tracking. (556) 549-5005\n",
    "\n",
    "*** Education\n",
    "\n",
    "WEST CREEK STATE UNIVERSITY - West Creek, Mississippi\n",
    "Bachelor of Arts\n",
    "\n",
    "PROFESSIONAL DEVELOPMENT:\n",
    "\n",
    "* Equal Opportunity Law\n",
    "* Sexual Harassment\n",
    "* Internet Hiring\n",
    "* Applicant Tracking Systems\n",
    "* Dealing with Difficult People\n",
    "* Dale Carnegie\n",
    "* Leadership Skills\n",
    "* HR Strategic Planning\n",
    "\n",
    "*** Affiliations\n",
    "\n",
    "Society of Human Resources Management\n",
    "\n",
    "'''"
   ]
  },
  {
   "cell_type": "code",
   "execution_count": null,
   "metadata": {
    "collapsed": true
   },
   "outputs": [],
   "source": []
  },
  {
   "cell_type": "code",
   "execution_count": null,
   "metadata": {
    "collapsed": true
   },
   "outputs": [],
   "source": []
  },
  {
   "cell_type": "code",
   "execution_count": 3,
   "metadata": {
    "collapsed": true
   },
   "outputs": [],
   "source": [
    "import re"
   ]
  },
  {
   "cell_type": "code",
   "execution_count": 4,
   "metadata": {
    "collapsed": true
   },
   "outputs": [],
   "source": [
    "Regexmob=re.compile(r'\\(\\d\\d\\d\\) \\d\\d\\d-\\d\\d\\d\\d')"
   ]
  },
  {
   "cell_type": "code",
   "execution_count": 11,
   "metadata": {},
   "outputs": [
    {
     "data": {
      "text/plain": [
       "'(555) 555-5555'"
      ]
     },
     "execution_count": 11,
     "metadata": {},
     "output_type": "execute_result"
    }
   ],
   "source": [
    "mo=Regexmob.search(resume)\n",
    "mo.group()"
   ]
  },
  {
   "cell_type": "code",
   "execution_count": null,
   "metadata": {
    "collapsed": true
   },
   "outputs": [],
   "source": []
  },
  {
   "cell_type": "code",
   "execution_count": null,
   "metadata": {
    "collapsed": true
   },
   "outputs": [],
   "source": []
  },
  {
   "cell_type": "code",
   "execution_count": 8,
   "metadata": {},
   "outputs": [
    {
     "ename": "NameError",
     "evalue": "name 'Regex' is not defined",
     "output_type": "error",
     "traceback": [
      "\u001b[1;31m---------------------------------------------------------------------------\u001b[0m",
      "\u001b[1;31mNameError\u001b[0m                                 Traceback (most recent call last)",
      "\u001b[1;32m<ipython-input-8-ebc6ec34d282>\u001b[0m in \u001b[0;36m<module>\u001b[1;34m()\u001b[0m\n\u001b[1;32m----> 1\u001b[1;33m \u001b[0mRegex\u001b[0m\u001b[1;33m.\u001b[0m\u001b[0mfindall\u001b[0m\u001b[1;33m(\u001b[0m\u001b[0mresume\u001b[0m\u001b[1;33m)\u001b[0m\u001b[1;33m\u001b[0m\u001b[0m\n\u001b[0m",
      "\u001b[1;31mNameError\u001b[0m: name 'Regex' is not defined"
     ]
    }
   ],
   "source": [
    "Regex.findall(resume)"
   ]
  },
  {
   "cell_type": "code",
   "execution_count": 9,
   "metadata": {},
   "outputs": [
    {
     "data": {
      "text/plain": [
       "['(555) 555-5555', '(556) 549-5005']"
      ]
     },
     "execution_count": 9,
     "metadata": {},
     "output_type": "execute_result"
    }
   ],
   "source": [
    "Regexmob.findall(resume)"
   ]
  },
  {
   "cell_type": "code",
   "execution_count": 13,
   "metadata": {},
   "outputs": [
    {
     "data": {
      "text/plain": [
       "'\\nMaxine Kent\\n(555) 555-5555\\nmaxine@hmail.com\\n\\n*** Professional Profile\\n\\nHuman resources manager with solid skills in HR administration, policy and procedure development, traditional and electronic recruiting, hiring, training, employee relations, corporate communications, contract management, and affirmative action.\\n\\n* Effective change manager with record of success managing people and projects in fast-paced, high pressure environments.\\n\\n* Solid knowledge of state and federal employment / unemployment laws, EEOC, ADA, and OSHA regulations.\\n\\n* Well-developed interpersonal and communication skills.\\n\\n* Proficient with Windows, Microsoft Word, Microsoft Excel, and HRIS systems.\\n\\n*** Experience\\n\\nWEST REHAB - West Creek, Mississippi\\nHuman Resources Manager\\nDirected and managed staffing for 22 facilities. Recruited, hired, and trained staff. Supervised five staffing coordinators and handled all HR management functions.\\n* Successfully improved company profits through effective management of human resources.\\n* Conducted interviews, screened applicants, and provided new hire orientations.\\n* Authored employee handbooks for three companies.\\n* Implemented custom HRIS system to coordinate resource allocation and staff scheduling.\\n* Developed and implemented policies, procedures, and initiatives that improved customer relations and dramatically reduced staff turnover.\\n\\nADVO STAFFING - West Hanson, Mississippi\\nOnsite Coordinator / Partnership Manager\\nManaged operations and supervised staff at three locations. Hired, trained, supervised, and evaluated 24 on-site coordinators. Functioned as primary liaison between client companies and upper management. Assisted with contract negotiation and recruiting.\\n* Managed contract staff programs at individual client sites.\\n* Sourced and placed personnel through in-house recruiters, advertisements, traditional / Internet recruiting, and job fairs.\\n* Oversaw benefits enrollment, payroll, performance appraisals, employee relations, contractor terminations, exit interviewing, recognition programs, co-employment issues, and safety audits.\\n* Managed personnel records (225+ employees).\\n\\nRTF SECURITY SERVICES - Seattle, Washington\\nSite Supervisor:sekhar549@gmailcom\\nCoordinated onsite personnel functions. Screened applicants, conducted initial interviews, and made hiring recommendations.\\n* Prepared performance appraisals and maintained employee records.\\n* Led on-the-job training sessions, utilizing state-of-the-art testing methods.\\n\\nHuman Resource Generalist / Intern\\nOrganized personnel records for Affirmative Action tracking. (556) 549-5005\\n\\n*** Education\\n\\nWEST CREEK STATE UNIVERSITY - West Creek, Mississippi\\nBachelor of Arts\\n\\nPROFESSIONAL DEVELOPMENT:\\n\\n* Equal Opportunity Law\\n* Sexual Harassment\\n* Internet Hiring\\n* Applicant Tracking Systems\\n* Dealing with Difficult People\\n* Dale Carnegie\\n* Leadership Skills\\n* HR Strategic Planning\\n\\n*** Affiliations\\n\\nSociety of Human Resources Management\\n\\n'"
      ]
     },
     "execution_count": 13,
     "metadata": {},
     "output_type": "execute_result"
    }
   ],
   "source": [
    "resume"
   ]
  },
  {
   "cell_type": "code",
   "execution_count": 18,
   "metadata": {
    "collapsed": true
   },
   "outputs": [],
   "source": [
    "mailregex=re.compile(r'[a-zA-Z0-9]+\\@[a-zA-Z]+.com')"
   ]
  },
  {
   "cell_type": "code",
   "execution_count": null,
   "metadata": {
    "collapsed": true
   },
   "outputs": [],
   "source": []
  },
  {
   "cell_type": "code",
   "execution_count": 19,
   "metadata": {},
   "outputs": [
    {
     "data": {
      "text/plain": [
       "['maxine@hmail.com', 'sekhar549@gmail.com']"
      ]
     },
     "execution_count": 19,
     "metadata": {},
     "output_type": "execute_result"
    }
   ],
   "source": [
    "mailregex.findall(resume)"
   ]
  },
  {
   "cell_type": "code",
   "execution_count": null,
   "metadata": {
    "collapsed": true
   },
   "outputs": [],
   "source": []
  },
  {
   "cell_type": "code",
   "execution_count": null,
   "metadata": {
    "collapsed": true
   },
   "outputs": [],
   "source": []
  },
  {
   "cell_type": "code",
   "execution_count": null,
   "metadata": {
    "collapsed": true
   },
   "outputs": [],
   "source": []
  },
  {
   "cell_type": "code",
   "execution_count": null,
   "metadata": {
    "collapsed": true
   },
   "outputs": [],
   "source": []
  },
  {
   "cell_type": "code",
   "execution_count": null,
   "metadata": {
    "collapsed": true
   },
   "outputs": [],
   "source": []
  }
 ],
 "metadata": {
  "kernelspec": {
   "display_name": "Python 2",
   "language": "python",
   "name": "python2"
  },
  "language_info": {
   "codemirror_mode": {
    "name": "ipython",
    "version": 2
   },
   "file_extension": ".py",
   "mimetype": "text/x-python",
   "name": "python",
   "nbconvert_exporter": "python",
   "pygments_lexer": "ipython2",
   "version": "2.7.14"
  }
 },
 "nbformat": 4,
 "nbformat_minor": 2
}

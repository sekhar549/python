{
 "cells": [
  {
   "cell_type": "code",
   "execution_count": 2,
   "metadata": {
    "collapsed": true
   },
   "outputs": [],
   "source": [
    "myDict={'name':'Raj', 'Location':'Kurnool','Profession': 'IT professional'}"
   ]
  },
  {
   "cell_type": "code",
   "execution_count": 5,
   "metadata": {},
   "outputs": [
    {
     "data": {
      "text/plain": [
       "['Profession', 'name', 'Location']"
      ]
     },
     "execution_count": 5,
     "metadata": {},
     "output_type": "execute_result"
    }
   ],
   "source": [
    "myDict.keys()"
   ]
  },
  {
   "cell_type": "code",
   "execution_count": 6,
   "metadata": {},
   "outputs": [
    {
     "data": {
      "text/plain": [
       "['IT professional', 'Raj', 'Kurnool']"
      ]
     },
     "execution_count": 6,
     "metadata": {},
     "output_type": "execute_result"
    }
   ],
   "source": [
    "myDict.values()"
   ]
  },
  {
   "cell_type": "code",
   "execution_count": 7,
   "metadata": {},
   "outputs": [
    {
     "name": "stdout",
     "output_type": "stream",
     "text": [
      "Profession\n",
      "name\n",
      "Location\n"
     ]
    }
   ],
   "source": [
    "for k in myDict:\n",
    "    print(k)"
   ]
  },
  {
   "cell_type": "code",
   "execution_count": 9,
   "metadata": {},
   "outputs": [
    {
     "name": "stdout",
     "output_type": "stream",
     "text": [
      "('Profession', 'IT professional')\n",
      "('name', 'Raj')\n",
      "('Location', 'Kurnool')\n"
     ]
    }
   ],
   "source": [
    "for k in myDict.items():\n",
    "    print(k)"
   ]
  },
  {
   "cell_type": "code",
   "execution_count": 10,
   "metadata": {},
   "outputs": [
    {
     "ename": "NameError",
     "evalue": "name 'name' is not defined",
     "output_type": "error",
     "traceback": [
      "\u001b[1;31m---------------------------------------------------------------------------\u001b[0m",
      "\u001b[1;31mNameError\u001b[0m                                 Traceback (most recent call last)",
      "\u001b[1;32m<ipython-input-10-647fc909cfb9>\u001b[0m in \u001b[0;36m<module>\u001b[1;34m()\u001b[0m\n\u001b[1;32m----> 1\u001b[1;33m \u001b[0mmyDict\u001b[0m\u001b[1;33m(\u001b[0m\u001b[0mname\u001b[0m\u001b[1;33m)\u001b[0m\u001b[1;33m\u001b[0m\u001b[0m\n\u001b[0m",
      "\u001b[1;31mNameError\u001b[0m: name 'name' is not defined"
     ]
    }
   ],
   "source": [
    "myDict(name)"
   ]
  },
  {
   "cell_type": "code",
   "execution_count": 11,
   "metadata": {},
   "outputs": [
    {
     "ename": "TypeError",
     "evalue": "'dict' object is not callable",
     "output_type": "error",
     "traceback": [
      "\u001b[1;31m---------------------------------------------------------------------------\u001b[0m",
      "\u001b[1;31mTypeError\u001b[0m                                 Traceback (most recent call last)",
      "\u001b[1;32m<ipython-input-11-6abeb8a6edc6>\u001b[0m in \u001b[0;36m<module>\u001b[1;34m()\u001b[0m\n\u001b[1;32m----> 1\u001b[1;33m \u001b[0mmyDict\u001b[0m\u001b[1;33m(\u001b[0m\u001b[1;34m'name'\u001b[0m\u001b[1;33m)\u001b[0m\u001b[1;33m\u001b[0m\u001b[0m\n\u001b[0m",
      "\u001b[1;31mTypeError\u001b[0m: 'dict' object is not callable"
     ]
    }
   ],
   "source": [
    "myDict('name')"
   ]
  },
  {
   "cell_type": "code",
   "execution_count": 12,
   "metadata": {},
   "outputs": [
    {
     "name": "stdout",
     "output_type": "stream",
     "text": [
      "Raj\n"
     ]
    }
   ],
   "source": [
    "print(myDict['name'])"
   ]
  },
  {
   "cell_type": "code",
   "execution_count": 13,
   "metadata": {},
   "outputs": [
    {
     "data": {
      "text/plain": [
       "'Raj'"
      ]
     },
     "execution_count": 13,
     "metadata": {},
     "output_type": "execute_result"
    }
   ],
   "source": [
    "myDict['name']"
   ]
  },
  {
   "cell_type": "code",
   "execution_count": 18,
   "metadata": {},
   "outputs": [
    {
     "name": "stdout",
     "output_type": "stream",
     "text": [
      "5\n"
     ]
    }
   ],
   "source": [
    "namespace = 'I am looking for proficient programmer'\n",
    "ltr ='o'\n",
    "count=0\n",
    "for i in list(namespace):\n",
    "    if ltr == i:\n",
    "        count = count + 1\n",
    "print(count)"
   ]
  },
  {
   "cell_type": "code",
   "execution_count": 15,
   "metadata": {},
   "outputs": [
    {
     "data": {
      "text/plain": [
       "'I am looking for proficient programmer'"
      ]
     },
     "execution_count": 15,
     "metadata": {},
     "output_type": "execute_result"
    }
   ],
   "source": [
    "namespace"
   ]
  },
  {
   "cell_type": "code",
   "execution_count": 16,
   "metadata": {},
   "outputs": [
    {
     "data": {
      "text/plain": [
       "['I',\n",
       " ' ',\n",
       " 'a',\n",
       " 'm',\n",
       " ' ',\n",
       " 'l',\n",
       " 'o',\n",
       " 'o',\n",
       " 'k',\n",
       " 'i',\n",
       " 'n',\n",
       " 'g',\n",
       " ' ',\n",
       " 'f',\n",
       " 'o',\n",
       " 'r',\n",
       " ' ',\n",
       " 'p',\n",
       " 'r',\n",
       " 'o',\n",
       " 'f',\n",
       " 'i',\n",
       " 'c',\n",
       " 'i',\n",
       " 'e',\n",
       " 'n',\n",
       " 't',\n",
       " ' ',\n",
       " 'p',\n",
       " 'r',\n",
       " 'o',\n",
       " 'g',\n",
       " 'r',\n",
       " 'a',\n",
       " 'm',\n",
       " 'm',\n",
       " 'e',\n",
       " 'r']"
      ]
     },
     "execution_count": 16,
     "metadata": {},
     "output_type": "execute_result"
    }
   ],
   "source": [
    "list(namespace)"
   ]
  },
  {
   "cell_type": "code",
   "execution_count": 19,
   "metadata": {
    "collapsed": true
   },
   "outputs": [],
   "source": [
    "namespace=\"Sydney is one of the costliest cities in the world. It is a global city\""
   ]
  },
  {
   "cell_type": "code",
   "execution_count": 20,
   "metadata": {},
   "outputs": [
    {
     "data": {
      "text/plain": [
       "'Sydney is one of the costliest cities in the world. It is a global city'"
      ]
     },
     "execution_count": 20,
     "metadata": {},
     "output_type": "execute_result"
    }
   ],
   "source": [
    "namespace"
   ]
  },
  {
   "cell_type": "code",
   "execution_count": 23,
   "metadata": {
    "collapsed": true
   },
   "outputs": [],
   "source": [
    "count={}"
   ]
  },
  {
   "cell_type": "code",
   "execution_count": 22,
   "metadata": {},
   "outputs": [
    {
     "data": {
      "text/plain": [
       "{}"
      ]
     },
     "execution_count": 22,
     "metadata": {},
     "output_type": "execute_result"
    }
   ],
   "source": [
    "myDict"
   ]
  },
  {
   "cell_type": "code",
   "execution_count": 26,
   "metadata": {},
   "outputs": [
    {
     "name": "stdout",
     "output_type": "stream",
     "text": [
      "[(' ', 42), ('.', 3), ('A', 4), ('C', 6), ('B', 2), ('E', 12), ('D', 4), ('G', 2), ('F', 2), ('I', 17), ('H', 4), ('L', 8), ('O', 10), ('N', 6), ('S', 13), ('R', 2), ('T', 14), ('W', 2), ('Y', 6), ('a', 2), ('c', 3), ('b', 1), ('e', 6), ('d', 2), ('g', 1), ('f', 1), ('i', 7), ('h', 2), ('l', 4), ('o', 5), ('n', 3), ('s', 5), ('r', 1), ('t', 7), ('w', 1), ('y', 3)]\n"
     ]
    }
   ],
   "source": [
    "for k in namespace.upper():\n",
    "    count.setdefault(k,0)\n",
    "    count[k]=count[k]+1\n",
    "print(count.items())\n",
    "        \n",
    "    "
   ]
  },
  {
   "cell_type": "code",
   "execution_count": null,
   "metadata": {
    "collapsed": true
   },
   "outputs": [],
   "source": []
  },
  {
   "cell_type": "code",
   "execution_count": null,
   "metadata": {
    "collapsed": true
   },
   "outputs": [],
   "source": []
  },
  {
   "cell_type": "code",
   "execution_count": 27,
   "metadata": {
    "collapsed": true
   },
   "outputs": [],
   "source": [
    "message= '''\n",
    "-------------------------------------------------------------------------\n",
    "USEFUL ONE-LINE SCRIPTS FOR SED (Unix stream editor)        Dec. 29, 2005\n",
    "Compiled by Eric Pement - pemente[at]northpark[dot]edu        version 5.5\n",
    "\n",
    "Latest version of this file (in English) is usually at:\n",
    "   http://sed.sourceforge.net/sed1line.txt\n",
    "   http://www.pement.org/sed/sed1line.txt\n",
    "\n",
    "This file will also available in other languages:\n",
    "  Chinese     - http://sed.sourceforge.net/sed1line_zh-CN.html\n",
    "  Czech       - http://sed.sourceforge.net/sed1line_cz.html\n",
    "  Dutch       - http://sed.sourceforge.net/sed1line_nl.html\n",
    "  French      - http://sed.sourceforge.net/sed1line_fr.html\n",
    "  German      - http://sed.sourceforge.net/sed1line_de.html\n",
    "  Italian     - http://sed.sourceforge.net/sed1line_it.html\n",
    "  Portuguese  - http://sed.sourceforge.net/sed1line_pt-BR.html\n",
    "  Spanish     - http://sed.sourceforge.net/sed1line_es.html\n",
    "\n",
    "FILE SPACING:\n",
    "\n",
    " # double space a file\n",
    " sed G\n",
    "\n",
    " # double space a file which already has blank lines in it. Output file\n",
    " # should contain no more than one blank line between lines of text.\n",
    " sed '/^$/d;G'\n",
    "\n",
    " # triple space a file\n",
    " sed 'G;G'\n",
    "\n",
    " # undo double-spacing (assumes even-numbered lines are always blank)\n",
    " sed 'n;d'\n",
    "\n",
    " # insert a blank line above every line which matches \"regex\"\n",
    " sed '/regex/{x;p;x;}'\n",
    "\n",
    " # insert a blank line below every line which matches \"regex\"\n",
    " sed '/regex/G'\n",
    "\n",
    " # insert a blank line above and below every line which matches \"regex\"\n",
    " sed '/regex/{x;p;x;G;}'\n",
    "\n",
    "NUMBERING:\n",
    "\n",
    " # number each line of a file (simple left alignment). Using a tab (see\n",
    " # note on '\\t' at end of file) instead of space will preserve margins.\n",
    " sed = filename | sed 'N;s/\\n/\\t/'\n",
    "\n",
    " # number each line of a file (number on left, right-aligned)\n",
    " sed = filename | sed 'N; s/^/     /; s/ *\\(.\\{6,\\}\\)\\n/\\1  /'\n",
    "\n",
    " # number each line of file, but only print numbers if line is not blank\n",
    " sed '/./=' filename | sed '/./N; s/\\n/ /'\n",
    "\n",
    " # count lines (emulates \"wc -l\")\n",
    " sed -n '$='\n",
    "\n",
    "TEXT CONVERSION AND SUBSTITUTION:\n",
    "\n",
    " # IN UNIX ENVIRONMENT: convert DOS newlines (CR/LF) to Unix format.\n",
    " sed 's/.$//'               # assumes that all lines end with CR/LF\n",
    " sed 's/^M$//'              # in bash/tcsh, press Ctrl-V then Ctrl-M\n",
    " sed 's/\\x0D$//'            # works on ssed, gsed 3.02.80 or higher\n",
    "\n",
    " # IN UNIX ENVIRONMENT: convert Unix newlines (LF) to DOS format.\n",
    " sed \"s/$/`echo -e \\\\\\r`/\"            # command line under ksh\n",
    " sed 's/$'\"/`echo \\\\\\r`/\"             # command line under bash\n",
    " sed \"s/$/`echo \\\\\\r`/\"               # command line under zsh\n",
    " sed 's/$/\\r/'                        # gsed 3.02.80 or higher\n",
    "\n",
    " # IN DOS ENVIRONMENT: convert Unix newlines (LF) to DOS format.\n",
    " sed \"s/$//\"                          # method 1\n",
    " sed -n p                             # method 2\n",
    "\n",
    " # IN DOS ENVIRONMENT: convert DOS newlines (CR/LF) to Unix format.\n",
    " # Can only be done with UnxUtils sed, version 4.0.7 or higher. The\n",
    " # UnxUtils version can be identified by the custom \"--text\" switch\n",
    " # which appears when you use the \"--help\" switch. Otherwise, changing\n",
    " # DOS newlines to Unix newlines cannot be done with sed in a DOS\n",
    " # environment. Use \"tr\" instead.\n",
    " sed \"s/\\r//\" infile >outfile         # UnxUtils sed v4.0.7 or higher\n",
    " tr -d \\r <infile >outfile            # GNU tr version 1.22 or higher\n",
    "\n",
    " # delete leading whitespace (spaces, tabs) from front of each line\n",
    " # aligns all text flush left\n",
    " sed 's/^[ \\t]*//'                    # see note on '\\t' at end of file\n",
    "\n",
    " # delete trailing whitespace (spaces, tabs) from end of each line\n",
    " sed 's/[ \\t]*$//'                    # see note on '\\t' at end of file\n",
    "\n",
    " # delete BOTH leading and trailing whitespace from each line\n",
    " sed 's/^[ \\t]*//;s/[ \\t]*$//'\n",
    "\n",
    " # insert 5 blank spaces at beginning of each line (make page offset)\n",
    " sed 's/^/     /'\n",
    "\n",
    " # align all text flush right on a 79-column width\n",
    " sed -e :a -e 's/^.\\{1,78\\}$/ &/;ta'  # set at 78 plus 1 space\n",
    "\n",
    " # center all text in the middle of 79-column width. In method 1,\n",
    " # spaces at the beginning of the line are significant, and trailing\n",
    " # spaces are appended at the end of the line. In method 2, spaces at\n",
    " # the beginning of the line are discarded in centering the line, and\n",
    " # no trailing spaces appear at the end of lines.\n",
    " sed  -e :a -e 's/^.\\{1,77\\}$/ & /;ta'                     # method 1\n",
    " sed  -e :a -e 's/^.\\{1,77\\}$/ &/;ta' -e 's/\\( *\\)\\1/\\1/'  # method 2\n",
    "\n",
    " # substitute (find and replace) \"foo\" with \"bar\" on each line\n",
    " sed 's/foo/bar/'             # replaces only 1st instance in a line\n",
    " sed 's/foo/bar/4'            # replaces only 4th instance in a line\n",
    " sed 's/foo/bar/g'            # replaces ALL instances in a line\n",
    " sed 's/\\(.*\\)foo\\(.*foo\\)/\\1bar\\2/' # replace the next-to-last case\n",
    " sed 's/\\(.*\\)foo/\\1bar/'            # replace only the last case\n",
    "\n",
    " # substitute \"foo\" with \"bar\" ONLY for lines which contain \"baz\"\n",
    " sed '/baz/s/foo/bar/g'\n",
    "\n",
    " # substitute \"foo\" with \"bar\" EXCEPT for lines which contain \"baz\"\n",
    " sed '/baz/!s/foo/bar/g'\n",
    "\n",
    " # change \"scarlet\" or \"ruby\" or \"puce\" to \"red\"\n",
    " sed 's/scarlet/red/g;s/ruby/red/g;s/puce/red/g'   # most seds\n",
    " gsed 's/scarlet\\|ruby\\|puce/red/g'                # GNU sed only\n",
    "\n",
    " # reverse order of lines (emulates \"tac\")\n",
    " # bug/feature in HHsed v1.5 causes blank lines to be deleted\n",
    " sed '1!G;h;$!d'               # method 1\n",
    " sed -n '1!G;h;$p'             # method 2\n",
    "\n",
    " # reverse each character on the line (emulates \"rev\")\n",
    " sed '/\\n/!G;s/\\(.\\)\\(.*\\n\\)/&\\2\\1/;//D;s/.//'\n",
    "\n",
    " # join pairs of lines side-by-side (like \"paste\")\n",
    " sed '$!N;s/\\n/ /'\n",
    "\n",
    " # if a line ends with a backslash, append the next line to it\n",
    " sed -e :a -e '/\\\\$/N; s/\\\\\\n//; ta'\n",
    "\n",
    " # if a line begins with an equal sign, append it to the previous line\n",
    " # and replace the \"=\" with a single space\n",
    " sed -e :a -e '$!N;s/\\n=/ /;ta' -e 'P;D'\n",
    "\n",
    " # add commas to numeric strings, changing \"1234567\" to \"1,234,567\"\n",
    " gsed ':a;s/\\B[0-9]\\{3\\}\\>/,&/;ta'                     # GNU sed\n",
    " sed -e :a -e 's/\\(.*[0-9]\\)\\([0-9]\\{3\\}\\)/\\1,\\2/;ta'  # other seds\n",
    "\n",
    " # add commas to numbers with decimal points and minus signs (GNU sed)\n",
    " gsed -r ':a;s/(^|[^0-9.])([0-9]+)([0-9]{3})/\\1\\2,\\3/g;ta'\n",
    "\n",
    " # add a blank line every 5 lines (after lines 5, 10, 15, 20, etc.)\n",
    " gsed '0~5G'                  # GNU sed only\n",
    " sed 'n;n;n;n;G;'             # other seds\n",
    "\n",
    "SELECTIVE PRINTING OF CERTAIN LINES:\n",
    "\n",
    " # print first 10 lines of file (emulates behavior of \"head\")\n",
    " sed 10q\n",
    "\n",
    " # print first line of file (emulates \"head -1\")\n",
    " sed q\n",
    "\n",
    " # print the last 10 lines of a file (emulates \"tail\")\n",
    " sed -e :a -e '$q;N;11,$D;ba'\n",
    "\n",
    " # print the last 2 lines of a file (emulates \"tail -2\")\n",
    " sed '$!N;$!D'\n",
    "\n",
    " # print the last line of a file (emulates \"tail -1\")\n",
    " sed '$!d'                    # method 1\n",
    " sed -n '$p'                  # method 2\n",
    "\n",
    " # print the next-to-the-last line of a file\n",
    " sed -e '$!{h;d;}' -e x              # for 1-line files, print blank line\n",
    " sed -e '1{$q;}' -e '$!{h;d;}' -e x  # for 1-line files, print the line\n",
    " sed -e '1{$d;}' -e '$!{h;d;}' -e x  # for 1-line files, print nothing\n",
    "\n",
    " # print only lines which match regular expression (emulates \"grep\")\n",
    " sed -n '/regexp/p'           # method 1\n",
    " sed '/regexp/!d'             # method 2\n",
    "\n",
    " # print only lines which do NOT match regexp (emulates \"grep -v\")\n",
    " sed -n '/regexp/!p'          # method 1, corresponds to above\n",
    " sed '/regexp/d'              # method 2, simpler syntax\n",
    "\n",
    " # print the line immediately before a regexp, but not the line\n",
    " # containing the regexp\n",
    " sed -n '/regexp/{g;1!p;};h'\n",
    "\n",
    " # print the line immediately after a regexp, but not the line\n",
    " # containing the regexp\n",
    " sed -n '/regexp/{n;p;}'\n",
    "\n",
    " # print 1 line of context before and after regexp, with line number\n",
    " # indicating where the regexp occurred (similar to \"grep -A1 -B1\")\n",
    " sed -n -e '/regexp/{=;x;1!p;g;$!N;p;D;}' -e h\n",
    "\n",
    " # grep for AAA and BBB and CCC (in any order)\n",
    " sed '/AAA/!d; /BBB/!d; /CCC/!d'\n",
    "\n",
    " # grep for AAA and BBB and CCC (in that order)\n",
    " sed '/AAA.*BBB.*CCC/!d'\n",
    "\n",
    " # grep for AAA or BBB or CCC (emulates \"egrep\")\n",
    " sed -e '/AAA/b' -e '/BBB/b' -e '/CCC/b' -e d    # most seds\n",
    " gsed '/AAA\\|BBB\\|CCC/!d'                        # GNU sed only\n",
    "\n",
    " # print paragraph if it contains AAA (blank lines separate paragraphs)\n",
    " # HHsed v1.5 must insert a 'G;' after 'x;' in the next 3 scripts below\n",
    " sed -e '/./{H;$!d;}' -e 'x;/AAA/!d;'\n",
    "\n",
    " # print paragraph if it contains AAA and BBB and CCC (in any order)\n",
    " sed -e '/./{H;$!d;}' -e 'x;/AAA/!d;/BBB/!d;/CCC/!d'\n",
    "\n",
    " # print paragraph if it contains AAA or BBB or CCC\n",
    " sed -e '/./{H;$!d;}' -e 'x;/AAA/b' -e '/BBB/b' -e '/CCC/b' -e d\n",
    " gsed '/./{H;$!d;};x;/AAA\\|BBB\\|CCC/b;d'         # GNU sed only\n",
    "\n",
    " # print only lines of 65 characters or longer\n",
    " sed -n '/^.\\{65\\}/p'\n",
    "\n",
    " # print only lines of less than 65 characters\n",
    " sed -n '/^.\\{65\\}/!p'        # method 1, corresponds to above\n",
    " sed '/^.\\{65\\}/d'            # method 2, simpler syntax\n",
    "\n",
    " # print section of file from regular expression to end of file\n",
    " sed -n '/regexp/,$p'\n",
    "\n",
    " # print section of file based on line numbers (lines 8-12, inclusive)\n",
    " sed -n '8,12p'               # method 1\n",
    " sed '8,12!d'                 # method 2\n",
    "\n",
    " # print line number 52\n",
    " sed -n '52p'                 # method 1\n",
    " sed '52!d'                   # method 2\n",
    " sed '52q;d'                  # method 3, efficient on large files\n",
    "\n",
    " # beginning at line 3, print every 7th line\n",
    " gsed -n '3~7p'               # GNU sed only\n",
    " sed -n '3,${p;n;n;n;n;n;n;}' # other seds\n",
    "\n",
    " # print section of file between two regular expressions (inclusive)\n",
    " sed -n '/Iowa/,/Montana/p'             # case sensitive\n",
    "\n",
    "SELECTIVE DELETION OF CERTAIN LINES:\n",
    "\n",
    " # print all of file EXCEPT section between 2 regular expressions\n",
    " sed '/Iowa/,/Montana/d'\n",
    "\n",
    " # delete duplicate, consecutive lines from a file (emulates \"uniq\").\n",
    " # First line in a set of duplicate lines is kept, rest are deleted.\n",
    " sed '$!N; /^\\(.*\\)\\n\\1$/!P; D'\n",
    "\n",
    " # delete duplicate, nonconsecutive lines from a file. Beware not to\n",
    " # overflow the buffer size of the hold space, or else use GNU sed.\n",
    " sed -n 'G; s/\\n/&&/; /^\\([ -~]*\\n\\).*\\n\\1/d; s/\\n//; h; P'\n",
    "\n",
    " # delete all lines except duplicate lines (emulates \"uniq -d\").\n",
    " sed '$!N; s/^\\(.*\\)\\n\\1$/\\1/; t; D'\n",
    "\n",
    " # delete the first 10 lines of a file\n",
    " sed '1,10d'\n",
    "\n",
    " # delete the last line of a file\n",
    " sed '$d'\n",
    "\n",
    " # delete the last 2 lines of a file\n",
    " sed 'N;$!P;$!D;$d'\n",
    "\n",
    " # delete the last 10 lines of a file\n",
    " sed -e :a -e '$d;N;2,10ba' -e 'P;D'   # method 1\n",
    " sed -n -e :a -e '1,10!{P;N;D;};N;ba'  # method 2\n",
    "\n",
    " # delete every 8th line\n",
    " gsed '0~8d'                           # GNU sed only\n",
    " sed 'n;n;n;n;n;n;n;d;'                # other seds\n",
    "\n",
    " # delete lines matching pattern\n",
    " sed '/pattern/d'\n",
    "\n",
    " # delete ALL blank lines from a file (same as \"grep '.' \")\n",
    " sed '/^$/d'                           # method 1\n",
    " sed '/./!d'                           # method 2\n",
    "\n",
    " # delete all CONSECUTIVE blank lines from file except the first; also\n",
    " # deletes all blank lines from top and end of file (emulates \"cat -s\")\n",
    " sed '/./,/^$/!d'          # method 1, allows 0 blanks at top, 1 at EOF\n",
    " sed '/^$/N;/\\n$/D'        # method 2, allows 1 blank at top, 0 at EOF\n",
    "\n",
    " # delete all CONSECUTIVE blank lines from file except the first 2:\n",
    " sed '/^$/N;/\\n$/N;//D'\n",
    "\n",
    " # delete all leading blank lines at top of file\n",
    " sed '/./,$!d'\n",
    "\n",
    " # delete all trailing blank lines at end of file\n",
    " sed -e :a -e '/^\\n*$/{$d;N;ba' -e '}'  # works on all seds\n",
    " sed -e :a -e '/^\\n*$/N;/\\n$/ba'        # ditto, except for gsed 3.02.*\n",
    "\n",
    " # delete the last line of each paragraph\n",
    " sed -n '/^$/{p;h;};/./{x;/./p;}'\n",
    "\n",
    "SPECIAL APPLICATIONS:\n",
    "\n",
    " # remove nroff overstrikes (char, backspace) from man pages. The 'echo'\n",
    " # command may need an -e switch if you use Unix System V or bash shell.\n",
    " sed \"s/.`echo \\\\\\b`//g\"    # double quotes required for Unix environment\n",
    " sed 's/.^H//g'             # in bash/tcsh, press Ctrl-V and then Ctrl-H\n",
    " sed 's/.\\x08//g'           # hex expression for sed 1.5, GNU sed, ssed\n",
    "\n",
    " # get Usenet/e-mail message header\n",
    " sed '/^$/q'                # deletes everything after first blank line\n",
    "\n",
    " # get Usenet/e-mail message body\n",
    " sed '1,/^$/d'              # deletes everything up to first blank line\n",
    "\n",
    " # get Subject header, but remove initial \"Subject: \" portion\n",
    " sed '/^Subject: */!d; s///;q'\n",
    "\n",
    " # get return address header\n",
    " sed '/^Reply-To:/q; /^From:/h; /./d;g;q'\n",
    "\n",
    " # parse out the address proper. Pulls out the e-mail address by itself\n",
    " # from the 1-line return address header (see preceding script)\n",
    " sed 's/ *(.*)//; s/>.*//; s/.*[:<] *//'\n",
    "\n",
    " # add a leading angle bracket and space to each line (quote a message)\n",
    " sed 's/^/> /'\n",
    "\n",
    " # delete leading angle bracket & space from each line (unquote a message)\n",
    " sed 's/^> //'\n",
    "\n",
    " # remove most HTML tags (accommodates multiple-line tags)\n",
    " sed -e :a -e 's/<[^>]*>//g;/</N;//ba'\n",
    "\n",
    " # extract multi-part uuencoded binaries, removing extraneous header\n",
    " # info, so that only the uuencoded portion remains. Files passed to\n",
    " # sed must be passed in the proper order. Version 1 can be entered\n",
    " # from the command line; version 2 can be made into an executable\n",
    " # Unix shell script. (Modified from a script by Rahul Dhesi.)\n",
    " sed '/^end/,/^begin/d' file1 file2 ... fileX | uudecode   # vers. 1\n",
    " sed '/^end/,/^begin/d' \"$@\" | uudecode                    # vers. 2\n",
    "\n",
    " # sort paragraphs of file alphabetically. Paragraphs are separated by blank\n",
    " # lines. GNU sed uses \\v for vertical tab, or any unique char will do.\n",
    " sed '/./{H;d;};x;s/\\n/={NL}=/g' file | sort | sed '1s/={NL}=//;s/={NL}=/\\n/g'\n",
    " gsed '/./{H;d};x;y/\\n/\\v/' file | sort | sed '1s/\\v//;y/\\v/\\n/'\n",
    "\n",
    " # zip up each .TXT file individually, deleting the source file and\n",
    " # setting the name of each .ZIP file to the basename of the .TXT file\n",
    " # (under DOS: the \"dir /b\" switch returns bare filenames in all caps).\n",
    " echo @echo off >zipup.bat\n",
    " dir /b *.txt | sed \"s/^\\(.*\\)\\.TXT/pkzip -mo \\1 \\1.TXT/\" >>zipup.bat\n",
    "\n",
    "TYPICAL USE: Sed takes one or more editing commands and applies all of\n",
    "them, in sequence, to each line of input. After all the commands have\n",
    "been applied to the first input line, that line is output and a second\n",
    "input line is taken for processing, and the cycle repeats. The\n",
    "preceding examples assume that input comes from the standard input\n",
    "device (i.e, the console, normally this will be piped input). One or\n",
    "more filenames can be appended to the command line if the input does\n",
    "not come from stdin. Output is sent to stdout (the screen). Thus:\n",
    "\n",
    " cat filename | sed '10q'        # uses piped input\n",
    " sed '10q' filename              # same effect, avoids a useless \"cat\"\n",
    " sed '10q' filename > newfile    # redirects output to disk\n",
    "\n",
    "For additional syntax instructions, including the way to apply editing\n",
    "commands from a disk file instead of the command line, consult \"sed &\n",
    "awk, 2nd Edition,\" by Dale Dougherty and Arnold Robbins (O'Reilly,\n",
    "1997; http://www.ora.com), \"UNIX Text Processing,\" by Dale Dougherty\n",
    "and Tim O'Reilly (Hayden Books, 1987) or the tutorials by Mike Arst\n",
    "distributed in U-SEDIT2.ZIP (many sites). To fully exploit the power\n",
    "of sed, one must understand \"regular expressions.\" For this, see\n",
    "\"Mastering Regular Expressions\" by Jeffrey Friedl (O'Reilly, 1997).\n",
    "The manual (\"man\") pages on Unix systems may be helpful (try \"man\n",
    "sed\", \"man regexp\", or the subsection on regular expressions in \"man\n",
    "ed\"), but man pages are notoriously difficult. They are not written to\n",
    "teach sed use or regexps to first-time users, but as a reference text\n",
    "for those already acquainted with these tools.\n",
    "\n",
    "QUOTING SYNTAX: The preceding examples use single quotes ('...')\n",
    "instead of double quotes (\"...\") to enclose editing commands, since\n",
    "sed is typically used on a Unix platform. Single quotes prevent the\n",
    "Unix shell from intrepreting the dollar sign ($) and backquotes\n",
    "(`...`), which are expanded by the shell if they are enclosed in\n",
    "double quotes. Users of the \"csh\" shell and derivatives will also need\n",
    "to quote the exclamation mark (!) with the backslash (i.e., \\!) to\n",
    "properly run the examples listed above, even within single quotes.\n",
    "Versions of sed written for DOS invariably require double quotes\n",
    "(\"...\") instead of single quotes to enclose editing commands.\n",
    "\n",
    "USE OF '\\t' IN SED SCRIPTS: For clarity in documentation, we have used\n",
    "the expression '\\t' to indicate a tab character (0x09) in the scripts.\n",
    "However, most versions of sed do not recognize the '\\t' abbreviation,\n",
    "so when typing these scripts from the command line, you should press\n",
    "the TAB key instead. '\\t' is supported as a regular expression\n",
    "metacharacter in awk, perl, and HHsed, sedmod, and GNU sed v3.02.80.\n",
    "\n",
    "VERSIONS OF SED: Versions of sed do differ, and some slight syntax\n",
    "variation is to be expected. In particular, most do not support the\n",
    "use of labels (:name) or branch instructions (b,t) within editing\n",
    "commands, except at the end of those commands. We have used the syntax\n",
    "which will be portable to most users of sed, even though the popular\n",
    "GNU versions of sed allow a more succinct syntax. When the reader sees\n",
    "a fairly long command such as this:\n",
    "\n",
    "   sed -e '/AAA/b' -e '/BBB/b' -e '/CCC/b' -e d\n",
    "\n",
    "it is heartening to know that GNU sed will let you reduce it to:\n",
    "\n",
    "   sed '/AAA/b;/BBB/b;/CCC/b;d'      # or even\n",
    "   sed '/AAA\\|BBB\\|CCC/b;d'\n",
    "\n",
    "In addition, remember that while many versions of sed accept a command\n",
    "like \"/one/ s/RE1/RE2/\", some do NOT allow \"/one/! s/RE1/RE2/\", which\n",
    "contains space before the 's'. Omit the space when typing the command.\n",
    "\n",
    "OPTIMIZING FOR SPEED: If execution speed needs to be increased (due to\n",
    "large input files or slow processors or hard disks), substitution will\n",
    "be executed more quickly if the \"find\" expression is specified before\n",
    "giving the \"s/.../.../\" instruction. Thus:\n",
    "\n",
    "   sed 's/foo/bar/g' filename         # standard replace command\n",
    "   sed '/foo/ s/foo/bar/g' filename   # executes more quickly\n",
    "   sed '/foo/ s//bar/g' filename      # shorthand sed syntax\n",
    "\n",
    "On line selection or deletion in which you only need to output lines\n",
    "from the first part of the file, a \"quit\" command (q) in the script\n",
    "will drastically reduce processing time for large files. Thus:\n",
    "\n",
    "   sed -n '45,50p' filename           # print line nos. 45-50 of a file\n",
    "   sed -n '51q;45,50p' filename       # same, but executes much faster\n",
    "\n",
    "If you have any additional scripts to contribute or if you find errors\n",
    "in this document, please send e-mail to the compiler. Indicate the\n",
    "version of sed you used, the operating system it was compiled for, and\n",
    "the nature of the problem. To qualify as a one-liner, the command line\n",
    "must be 65 characters or less. Various scripts in this file have been\n",
    "written or contributed by:\n",
    "\n",
    " Al Aab                   # founder of \"seders\" list\n",
    " Edgar Allen              # various\n",
    " Yiorgos Adamopoulos      # various\n",
    " Dale Dougherty           # author of \"sed & awk\"\n",
    " Carlos Duarte            # author of \"do it with sed\"\n",
    " Eric Pement              # author of this document\n",
    " Ken Pizzini              # author of GNU sed v3.02\n",
    " S.G. Ravenhall           # great de-html script\n",
    " Greg Ubben               # many contributions & much help\n",
    "-------------------------------------------------------------------------\n",
    "\n",
    "'''"
   ]
  },
  {
   "cell_type": "code",
   "execution_count": 28,
   "metadata": {
    "collapsed": true
   },
   "outputs": [],
   "source": [
    "count={}\n",
    "    "
   ]
  },
  {
   "cell_type": "code",
   "execution_count": 29,
   "metadata": {},
   "outputs": [
    {
     "data": {
      "text/plain": [
       "{}"
      ]
     },
     "execution_count": 29,
     "metadata": {},
     "output_type": "execute_result"
    }
   ],
   "source": [
    "count"
   ]
  },
  {
   "cell_type": "code",
   "execution_count": 31,
   "metadata": {},
   "outputs": [
    {
     "name": "stdout",
     "output_type": "stream",
     "text": [
      "{'\\x08': 4, ' ': 7870, '$': 126, '(': 166, ',': 252, '0': 80, '4': 18, '8': 22, '<': 8, '@': 4, 'D': 78, 'H': 36, 'L': 52, 'P': 54, 'T': 110, 'X': 24, '\\\\': 124, '`': 20, 'd': 1202, 'h': 766, 'l': 1164, 'p': 600, 't': 1670, 'x': 216, '|': 40, '\\x03': 2, '\\x0b': 8, '#': 402, \"'\": 618, '+': 2, '/': 848, '3': 30, '7': 34, ';': 326, 'C': 150, 'G': 74, 'K': 2, 'O': 92, 'S': 90, 'W': 4, '[': 30, '_': 16, 'c': 618, 'g': 410, 'k': 108, 'o': 1298, 's': 1796, 'w': 196, '{': 68, '\\x02': 8, '\\n': 950, '\"': 272, '&': 22, '*': 58, '.': 382, '2': 90, '6': 18, ':': 112, '>': 24, 'B': 108, 'F': 46, 'J': 2, 'N': 174, 'R': 60, 'V': 34, 'Z': 6, '^': 76, 'b': 388, 'f': 574, 'j': 8, 'n': 1612, 'r': 1166, 'v': 158, 'z': 32, '~': 8, '\\x01': 28, '\\t': 24, '\\r': 14, '!': 94, ')': 166, '-': 586, '1': 166, '5': 60, '9': 30, '=': 26, 'A': 142, 'E': 114, 'I': 108, 'M': 28, 'Q': 2, 'U': 108, 'Y': 8, ']': 30, 'a': 1408, 'e': 3310, 'i': 1484, 'm': 534, 'q': 76, 'u': 532, 'y': 218, '}': 68}\n"
     ]
    }
   ],
   "source": [
    "for key in message:\n",
    "    count.setdefault(key,0)\n",
    "    count[key]+=1\n",
    "print(count)"
   ]
  },
  {
   "cell_type": "code",
   "execution_count": null,
   "metadata": {
    "collapsed": true
   },
   "outputs": [],
   "source": []
  },
  {
   "cell_type": "code",
   "execution_count": null,
   "metadata": {
    "collapsed": true
   },
   "outputs": [],
   "source": []
  },
  {
   "cell_type": "code",
   "execution_count": null,
   "metadata": {
    "collapsed": true
   },
   "outputs": [],
   "source": []
  },
  {
   "cell_type": "code",
   "execution_count": null,
   "metadata": {
    "collapsed": true
   },
   "outputs": [],
   "source": []
  }
 ],
 "metadata": {
  "kernelspec": {
   "display_name": "Python 2",
   "language": "python",
   "name": "python2"
  },
  "language_info": {
   "codemirror_mode": {
    "name": "ipython",
    "version": 2
   },
   "file_extension": ".py",
   "mimetype": "text/x-python",
   "name": "python",
   "nbconvert_exporter": "python",
   "pygments_lexer": "ipython2",
   "version": "2.7.14"
  }
 },
 "nbformat": 4,
 "nbformat_minor": 2
}
